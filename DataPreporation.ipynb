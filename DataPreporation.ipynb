{
 "cells": [
  {
   "cell_type": "code",
   "execution_count": 58,
   "metadata": {},
   "outputs": [],
   "source": [
    "import pandas as pd\n",
    "import datetime as dt\n",
    "import numpy as np\n",
    "import win32com.client\n",
    "import warnings\n",
    "\n",
    "warnings.filterwarnings(\"ignore\")\n",
    "\n",
    "# Начато 21.01.2022 в 19:17\n",
    "ROW_DATA_PATH = \"RawData/\"\n",
    "ROW_FILENAME = \"2022-01-31 Январь 2022.xlsx\"\n",
    "# ROW_FILENAME = \"2022-01-25 Январь-Декабрь.xlsx\"\n",
    "ROW_DATA_COLUMNS = {\n",
    "                    \"Дата\" : \"FDate\",\n",
    "                    \"Функциональное направление\" : \"FNRow\",\n",
    "                    \"МВЗ\" : \"MVZ\",\n",
    "                    \"Направление\" : \"DivisionRow\",\n",
    "                    \"Подразделение\" : \"SubDivision\",\n",
    "                    \"Пользователь\" : \"User\",\n",
    "                    \"Северный работник\" : \"Northern\",\n",
    "                    \"Проект\" : \"Project\",\n",
    "                    \"Статус проекта\" : \"ProjectState\",\n",
    "                    \"Менеджер проекта\" : \"ProjectManager\",\n",
    "                    \"Вид проекта\" : \"ProjectType\",\n",
    "                    \"Кол-во штатных единиц\" : \"KoBo\",\n",
    "                    \"План, FTE\" : \"PlanFTE\",\n",
    "                    \"Договор\" : \"Contract\",\n",
    "                    \"Фактические трудозатраты (час.) (Сумма)\" : \"FactHour\",\n",
    "                    \"Unnamed: 15\" : \"Unnamed15\",\n",
    "                    \"Unnamed: 16\" : \"Unnamed16\"\n",
    "                    }\n",
    "\n",
    "RESULT_DATA_COLUMNS = [\n",
    "                        \"FDate\",\n",
    "                        \"Month\",\n",
    "                        \"FN\",\n",
    "                        \"Division\",\n",
    "                        \"User\",\n",
    "                        \"Project\",\n",
    "                        \"ProjectType\",\n",
    "                        \"ProjectSubType\",\n",
    "                        \"ProjectManager\", \n",
    "                        \"PlanFTE\",\n",
    "                        \"FactFTE\",\n",
    "                        \"Pdr_Proj_User_Month\",\n",
    "                        \"Pdr_User_Proj_Month\",\n",
    "                        \"Pdr_User_Month\",\n",
    "                        \"Pdr_Proj_Month\",\n",
    "                        \"ProjMang_Proj_Month\",\n",
    "                        \"ProjMang_Proj_User_Month\"\n",
    "                      ]\n",
    "ROW_DATA_DROP_COLUMNS = [\"MVZ\", \"KoBo\", \"Contract\", \"Unnamed15\", \"Unnamed16\"]\n",
    "DONT_REPLACE_ENTER = [\"Month\"]\n",
    "\n",
    "BOOLEAN_VALUES_SUBST = {\"ЛОЖЬ\": 0, \"ИСТИНА\": 1}\n",
    "\n",
    "PARAMETERS_SECTION_NAME = \"Parameters\"\n",
    "ROW_DATA_SECTION_NAME = \"RawDataPath\"\n",
    "ROUND_FTE_SECTION_NAME = \"RoundFTE\"\n",
    "\n",
    "MONTH_WORKING_HOURS_TABLE = \"WHours.xlsx\"\n",
    "DIVISIONS_NAMES_TABLE = \"ShortDivisionNames.xlsx\"\n",
    "FNS_NAMES_TABLE = \"ShortFNNames.xlsx\"\n",
    "PROJECTS_SUB_TYPES_TABLE = \"ProjectsSubTypes.xlsx\"\n",
    "\n",
    "ROUND_FTE_VALUE = 0\n",
    "FACT_IS_PLAN_MARKER = \"(факт=плану)\"\n",
    "OTHER_PROJECT_SUB_TYPE = \"_Прочее\"\n",
    "\n",
    "p_delete_vacation = True"
   ]
  },
  {
   "cell_type": "code",
   "execution_count": 59,
   "metadata": {},
   "outputs": [],
   "source": [
    "def get_parameter_value(paramname):\n",
    "    # Читаем настройки\n",
    "    settings_df = pd.read_excel(\"Settings.xlsx\", engine='openpyxl')\n",
    "    settings_df.dropna(how='all', inplace=True)\n",
    "    ret_value = settings_df[settings_df[\"ParameterName\"]==paramname][\"ParameterValue\"].to_list()[0]\n",
    "    if type(ret_value) == str:\n",
    "        ret_value = ret_value.replace(\"\\\\\", \"/\")\n",
    "        if ret_value[-1] == \"/\":\n",
    "            ret_value = ret_value[:-1:]\n",
    "    \n",
    "    return (ret_value)"
   ]
  },
  {
   "cell_type": "code",
   "execution_count": 60,
   "metadata": {},
   "outputs": [
    {
     "data": {
      "text/plain": [
       "'c:\\\\tmp\\\\Settings.xlsx'"
      ]
     },
     "execution_count": 60,
     "metadata": {},
     "output_type": "execute_result"
    }
   ],
   "source": [
    "import os\n",
    "os.path.join(os.path.join(os.getcwd(), \"c:\\\\tmp\"), \"Settings.xlsx\")"
   ]
  },
  {
   "cell_type": "code",
   "execution_count": null,
   "metadata": {},
   "outputs": [],
   "source": []
  },
  {
   "cell_type": "code",
   "execution_count": null,
   "metadata": {},
   "outputs": [],
   "source": []
  },
  {
   "cell_type": "code",
   "execution_count": null,
   "metadata": {},
   "outputs": [],
   "source": []
  },
  {
   "cell_type": "code",
   "execution_count": null,
   "metadata": {},
   "outputs": [],
   "source": []
  },
  {
   "cell_type": "code",
   "execution_count": 61,
   "metadata": {},
   "outputs": [],
   "source": [
    "def load_row_data():\n",
    "    # Загружаем сырые данные\n",
    "    df = pd.read_excel(get_parameter_value(ROW_DATA_SECTION_NAME) + \"/\" + ROW_FILENAME, engine='openpyxl')\n",
    "    df.dropna(how='all', inplace=True)\n",
    "    df.rename(columns=ROW_DATA_COLUMNS, inplace=True)\n",
    "    exist_drop_columns_list = list(set(ROW_DATA_DROP_COLUMNS) & set(df.dtypes.keys()))\n",
    "    df.drop(columns=exist_drop_columns_list, inplace=True)\n",
    "\n",
    "    return (df)"
   ]
  },
  {
   "cell_type": "code",
   "execution_count": 62,
   "metadata": {},
   "outputs": [],
   "source": [
    "def load_parameter_table(tablename):\n",
    "    # Загружаем соответствующу таблицу с параметрами\n",
    "    parameter_df = pd.read_excel(get_parameter_value(PARAMETERS_SECTION_NAME) + \"/\" + tablename, engine='openpyxl')\n",
    "    parameter_df.dropna(how='all', inplace=True)\n",
    "    \n",
    "    return(parameter_df)"
   ]
  },
  {
   "cell_type": "code",
   "execution_count": 63,
   "metadata": {},
   "outputs": [],
   "source": [
    "def udata_2_date(data):\n",
    "    if (data != data):\n",
    "        ret_date = data\n",
    "    elif type(data) == str:\n",
    "        ret_date = dt.datetime.strptime(\"01.\"+data, '%d.%m.%Y')\n",
    "    elif type(data) == float:\n",
    "        ret_date = dt.datetime.strptime(\"01.\"+str(data), '%d.%m.%Y')\n",
    "    else:\n",
    "        ret_date = data\n",
    "    \n",
    "    return(ret_date)"
   ]
  },
  {
   "cell_type": "code",
   "execution_count": 64,
   "metadata": {},
   "outputs": [],
   "source": [
    "def calc_fact_fte(FactHour, Northern, CHour, NHour, Project, PlanFTE):\n",
    "    if Project.find(FACT_IS_PLAN_MARKER) >= 0:\n",
    "        fact_fte = PlanFTE\n",
    "    else:\n",
    "        month_hours = NHour if Northern else CHour\n",
    "        fact_fte = round(FactHour / month_hours, ROUND_FTE_VALUE)\n",
    "    return(fact_fte)"
   ]
  },
  {
   "cell_type": "code",
   "execution_count": 65,
   "metadata": {},
   "outputs": [],
   "source": [
    "def add_combine_columns(df):\n",
    "# \"Month\",\n",
    "# \"FN\",\n",
    "# \"Division\",\n",
    "# \"User\",\n",
    "# \"Project\",\n",
    "# \"ProjectType\",\n",
    "# \"ProjectSubType\",\n",
    "# \"PlanFTE\",\n",
    "# \"FactFTE\"\n",
    "# \n",
    "# Подразделение + Проект + ФИО + Месяц\n",
    "# Подразделение + ФИО + Проект + Месяц\n",
    "# Подразделение + ФИО + Месяц\n",
    "# Подразделение + Проект + Месяц\n",
    "# ПМ + Проект + Месяц\n",
    "# ПМ + Проект + ФИО + Месяц\n",
    "    df[\"ShortProject\"] = df[\"Project\"].str[:7]\n",
    "    df[\"Pdr_Proj_User_Month\"] = df[\"Division\"] +\"#\"+ df[\"ShortProject\"] +\"#\"+ df[\"User\"] +\"#\"+ df[\"Month\"]\n",
    "    df[\"Pdr_User_Proj_Month\"] = df[\"Division\"] +\"#\"+ df[\"User\"] +\"#\"+ df[\"ShortProject\"] +\"#\"+ df[\"Month\"]\n",
    "    df[\"Pdr_User_Month\"] = df[\"Division\"] +\"#\"+ df[\"User\"] +\"#\"+ df[\"Month\"]\n",
    "    df[\"Pdr_Proj_Month\"] = df[\"Division\"] +\"#\"+ df[\"ShortProject\"] +\"#\"+ df[\"Month\"]\n",
    "    df[\"ProjMang_Proj_Month\"] = df[\"ProjectManager\"] +\"#\"+ df[\"ShortProject\"] +\"#\"+ df[\"Month\"]\n",
    "    df[\"ProjMang_Proj_User_Month\"] = df[\"ProjectManager\"] +\"#\"+ df[\"ShortProject\"] +\"#\"+ df[\"User\"] +\"#\"+ df[\"Month\"]\n",
    "    \n",
    "    "
   ]
  },
  {
   "cell_type": "code",
   "execution_count": 66,
   "metadata": {},
   "outputs": [],
   "source": [
    "def prepare_data(data_df):\n",
    "    for column_name in set(data_df.dtypes.keys()) - set(DONT_REPLACE_ENTER):\n",
    "        if data_df.dtypes[column_name] == type(str):\n",
    "            data_df[column_name] = data_df[column_name].str.replace(\"\\n\", \"\")\n",
    "    \n",
    "    data_df[\"FDate\"] = data_df[\"FDate\"].apply(lambda param: udata_2_date(param))\n",
    "    data_df['Northern'].replace(BOOLEAN_VALUES_SUBST, inplace=True)\n",
    "    data_df = data_df.merge(month_hours_df, left_on=\"FDate\", right_on=\"FirstDate\", how=\"inner\")\n",
    "    \n",
    "    data_df[\"FactFTE\"] = \\\n",
    "        data_df[[\"FactHour\", \"Northern\", \"CHour\", \"NHour\", \"Project\", \"PlanFTE\"]].apply( \\\n",
    "            lambda param: calc_fact_fte(*param), axis=1\n",
    "        )\n",
    "\n",
    "    data_df = data_df.merge(divisions_names_df, left_on=\"DivisionRow\", right_on=\"FullDivisionName\", how=\"left\")\n",
    "    data_df[\"Division\"] = data_df[[\"ShortDivisionName\", \"DivisionRow\"]].apply(lambda param: param[1] if pd.isna(param[0]) else param[0], axis=1)\n",
    "\n",
    "    data_df = data_df.merge(fns_names_df, left_on=\"FNRow\", right_on=\"FullFNName\", how=\"left\")\n",
    "    data_df[\"FN\"] = data_df[[\"ShortFNName\", \"FNRow\"]].apply(lambda param: param[1] if pd.isna(param[0]) else param[0], axis=1)\n",
    "    \n",
    "    data_df[\"ProjectType\"] = \\\n",
    "        data_df[[\"Project\", \"ProjectType\"]].apply( \\\n",
    "            lambda param: \"S\" if param[0].find(FACT_IS_PLAN_MARKER)>=0 else param[1], axis=1)\n",
    "\n",
    "    data_df = data_df.merge(projects_sub_types_df, left_on=\"Project\", right_on=\"ProjectName\", how=\"left\")\n",
    "    data_df[\"ProjectSubType\"] = \\\n",
    "        data_df[[\"ProjectType\", \"ProjectSubTypePart\"]].apply( \\\n",
    "            lambda param: param[0]+OTHER_PROJECT_SUB_TYPE if pd.isna(param[1]) else param[1], axis=1 \\\n",
    "                                                        )\n",
    "    \n",
    "    if p_delete_vacation:\n",
    "        data_df[\"User\"] = \\\n",
    "            data_df[\"User\"].apply(lambda param: \"вакансия\" if param.replace(\" \",\"\").lower()[:8]==\"вакансия\" else param)\n",
    "        \n",
    "        data_df = data_df[data_df[\"User\"]!=\"вакансия\"]\n",
    "   \n",
    "    add_combine_columns(data_df)\n",
    "    \n",
    "    return(data_df[RESULT_DATA_COLUMNS])\n",
    "    return(data_df)\n",
    "    \n"
   ]
  },
  {
   "cell_type": "code",
   "execution_count": null,
   "metadata": {},
   "outputs": [],
   "source": []
  },
  {
   "cell_type": "code",
   "execution_count": 67,
   "metadata": {},
   "outputs": [],
   "source": [
    "row_df = load_row_data()\n",
    "month_hours_df = load_parameter_table(MONTH_WORKING_HOURS_TABLE)\n",
    "divisions_names_df = load_parameter_table(DIVISIONS_NAMES_TABLE)\n",
    "fns_names_df = load_parameter_table(FNS_NAMES_TABLE)\n",
    "projects_sub_types_df = load_parameter_table(PROJECTS_SUB_TYPES_TABLE)\n",
    "\n",
    "ROUND_FTE_VALUE = get_parameter_value(ROUND_FTE_SECTION_NAME)"
   ]
  },
  {
   "cell_type": "code",
   "execution_count": 68,
   "metadata": {},
   "outputs": [],
   "source": [
    "report_df = prepare_data(row_df.copy())\n"
   ]
  },
  {
   "cell_type": "code",
   "execution_count": 69,
   "metadata": {},
   "outputs": [
    {
     "data": {
      "text/html": [
       "<div>\n",
       "<style scoped>\n",
       "    .dataframe tbody tr th:only-of-type {\n",
       "        vertical-align: middle;\n",
       "    }\n",
       "\n",
       "    .dataframe tbody tr th {\n",
       "        vertical-align: top;\n",
       "    }\n",
       "\n",
       "    .dataframe thead th {\n",
       "        text-align: right;\n",
       "    }\n",
       "</style>\n",
       "<table border=\"1\" class=\"dataframe\">\n",
       "  <thead>\n",
       "    <tr style=\"text-align: right;\">\n",
       "      <th></th>\n",
       "      <th>FDate</th>\n",
       "      <th>Month</th>\n",
       "      <th>FN</th>\n",
       "      <th>Division</th>\n",
       "      <th>User</th>\n",
       "      <th>Project</th>\n",
       "      <th>ProjectType</th>\n",
       "      <th>ProjectSubType</th>\n",
       "      <th>ProjectManager</th>\n",
       "      <th>PlanFTE</th>\n",
       "      <th>FactFTE</th>\n",
       "      <th>Pdr_Proj_User_Month</th>\n",
       "      <th>Pdr_User_Proj_Month</th>\n",
       "      <th>Pdr_User_Month</th>\n",
       "      <th>Pdr_Proj_Month</th>\n",
       "      <th>ProjMang_Proj_Month</th>\n",
       "      <th>ProjMang_Proj_User_Month</th>\n",
       "    </tr>\n",
       "  </thead>\n",
       "  <tbody>\n",
       "    <tr>\n",
       "      <th>0</th>\n",
       "      <td>2022_01</td>\n",
       "      <td>янв</td>\n",
       "      <td>HCM</td>\n",
       "      <td>ДИСУ</td>\n",
       "      <td>Фролова Елена Евгеньевна</td>\n",
       "      <td>С0010-БОСС-Кадровик ЯКОБС</td>\n",
       "      <td>С</td>\n",
       "      <td>С_Прочее</td>\n",
       "      <td>Пуромов Евгений Владимирович</td>\n",
       "      <td>0.0</td>\n",
       "      <td>0.078</td>\n",
       "      <td>ДИСУ#С0010-Б#Фролова Елена Евгеньевна#янв</td>\n",
       "      <td>ДИСУ#Фролова Елена Евгеньевна#С0010-Б#янв</td>\n",
       "      <td>ДИСУ#Фролова Елена Евгеньевна#янв</td>\n",
       "      <td>ДИСУ#С0010-Б#янв</td>\n",
       "      <td>Пуромов Евгений Владимирович#С0010-Б#янв</td>\n",
       "      <td>Пуромов Евгений Владимирович#С0010-Б#Фролова Е...</td>\n",
       "    </tr>\n",
       "    <tr>\n",
       "      <th>1</th>\n",
       "      <td>2022_01</td>\n",
       "      <td>янв</td>\n",
       "      <td>СКК</td>\n",
       "      <td>НСКК</td>\n",
       "      <td>Климова Наталья Геннадьевна</td>\n",
       "      <td>С0013-EAE.LIMS в ООО \"ИНТЕСМО\"</td>\n",
       "      <td>С</td>\n",
       "      <td>С_Прочее</td>\n",
       "      <td>Колисниченко Елена Анатольевна</td>\n",
       "      <td>0.0</td>\n",
       "      <td>0.109</td>\n",
       "      <td>НСКК#С0013-E#Климова Наталья Геннадьевна#янв</td>\n",
       "      <td>НСКК#Климова Наталья Геннадьевна#С0013-E#янв</td>\n",
       "      <td>НСКК#Климова Наталья Геннадьевна#янв</td>\n",
       "      <td>НСКК#С0013-E#янв</td>\n",
       "      <td>Колисниченко Елена Анатольевна#С0013-E#янв</td>\n",
       "      <td>Колисниченко Елена Анатольевна#С0013-E#Климова...</td>\n",
       "    </tr>\n",
       "    <tr>\n",
       "      <th>2</th>\n",
       "      <td>2022_01</td>\n",
       "      <td>янв</td>\n",
       "      <td>ГиД</td>\n",
       "      <td>НПИС</td>\n",
       "      <td>Тягун Анна Анатольевна</td>\n",
       "      <td>Т0014-Информационная система оперативного хран...</td>\n",
       "      <td>Т</td>\n",
       "      <td>Т_Прочее</td>\n",
       "      <td>Заславская Ярослава Владимировна</td>\n",
       "      <td>0.0</td>\n",
       "      <td>0.812</td>\n",
       "      <td>НПИС#Т0014-И#Тягун Анна Анатольевна#янв</td>\n",
       "      <td>НПИС#Тягун Анна Анатольевна#Т0014-И#янв</td>\n",
       "      <td>НПИС#Тягун Анна Анатольевна#янв</td>\n",
       "      <td>НПИС#Т0014-И#янв</td>\n",
       "      <td>Заславская Ярослава Владимировна#Т0014-И#янв</td>\n",
       "      <td>Заславская Ярослава Владимировна#Т0014-И#Тягун...</td>\n",
       "    </tr>\n",
       "    <tr>\n",
       "      <th>3</th>\n",
       "      <td>2022_01</td>\n",
       "      <td>янв</td>\n",
       "      <td>ГиД</td>\n",
       "      <td>ДКиПС</td>\n",
       "      <td>Алифанова Мария Алексеевна</td>\n",
       "      <td>С0015-Информационная система оперативного хран...</td>\n",
       "      <td>С</td>\n",
       "      <td>С_Прочее</td>\n",
       "      <td>Заславская Ярослава Владимировна</td>\n",
       "      <td>0.0</td>\n",
       "      <td>1.000</td>\n",
       "      <td>ДКиПС#С0015-И#Алифанова Мария Алексеевна#янв</td>\n",
       "      <td>ДКиПС#Алифанова Мария Алексеевна#С0015-И#янв</td>\n",
       "      <td>ДКиПС#Алифанова Мария Алексеевна#янв</td>\n",
       "      <td>ДКиПС#С0015-И#янв</td>\n",
       "      <td>Заславская Ярослава Владимировна#С0015-И#янв</td>\n",
       "      <td>Заславская Ярослава Владимировна#С0015-И#Алифа...</td>\n",
       "    </tr>\n",
       "    <tr>\n",
       "      <th>4</th>\n",
       "      <td>2022_01</td>\n",
       "      <td>янв</td>\n",
       "      <td>ГиД</td>\n",
       "      <td>ДКиПС</td>\n",
       "      <td>Карабань Денис Владимирович</td>\n",
       "      <td>С0015-Информационная система оперативного хран...</td>\n",
       "      <td>С</td>\n",
       "      <td>С_Прочее</td>\n",
       "      <td>Заславская Ярослава Владимировна</td>\n",
       "      <td>0.0</td>\n",
       "      <td>1.000</td>\n",
       "      <td>ДКиПС#С0015-И#Карабань Денис Владимирович#янв</td>\n",
       "      <td>ДКиПС#Карабань Денис Владимирович#С0015-И#янв</td>\n",
       "      <td>ДКиПС#Карабань Денис Владимирович#янв</td>\n",
       "      <td>ДКиПС#С0015-И#янв</td>\n",
       "      <td>Заславская Ярослава Владимировна#С0015-И#янв</td>\n",
       "      <td>Заславская Ярослава Владимировна#С0015-И#Караб...</td>\n",
       "    </tr>\n",
       "  </tbody>\n",
       "</table>\n",
       "</div>"
      ],
      "text/plain": [
       "     FDate Month   FN Division                         User  \\\n",
       "0  2022_01   янв  HCM     ДИСУ     Фролова Елена Евгеньевна   \n",
       "1  2022_01   янв  СКК     НСКК  Климова Наталья Геннадьевна   \n",
       "2  2022_01   янв  ГиД     НПИС       Тягун Анна Анатольевна   \n",
       "3  2022_01   янв  ГиД    ДКиПС   Алифанова Мария Алексеевна   \n",
       "4  2022_01   янв  ГиД    ДКиПС  Карабань Денис Владимирович   \n",
       "\n",
       "                                             Project ProjectType  \\\n",
       "0                          С0010-БОСС-Кадровик ЯКОБС           С   \n",
       "1                     С0013-EAE.LIMS в ООО \"ИНТЕСМО\"           С   \n",
       "2  Т0014-Информационная система оперативного хран...           Т   \n",
       "3  С0015-Информационная система оперативного хран...           С   \n",
       "4  С0015-Информационная система оперативного хран...           С   \n",
       "\n",
       "  ProjectSubType                    ProjectManager  PlanFTE  FactFTE  \\\n",
       "0       С_Прочее      Пуромов Евгений Владимирович      0.0    0.078   \n",
       "1       С_Прочее    Колисниченко Елена Анатольевна      0.0    0.109   \n",
       "2       Т_Прочее  Заславская Ярослава Владимировна      0.0    0.812   \n",
       "3       С_Прочее  Заславская Ярослава Владимировна      0.0    1.000   \n",
       "4       С_Прочее  Заславская Ярослава Владимировна      0.0    1.000   \n",
       "\n",
       "                             Pdr_Proj_User_Month  \\\n",
       "0      ДИСУ#С0010-Б#Фролова Елена Евгеньевна#янв   \n",
       "1   НСКК#С0013-E#Климова Наталья Геннадьевна#янв   \n",
       "2        НПИС#Т0014-И#Тягун Анна Анатольевна#янв   \n",
       "3   ДКиПС#С0015-И#Алифанова Мария Алексеевна#янв   \n",
       "4  ДКиПС#С0015-И#Карабань Денис Владимирович#янв   \n",
       "\n",
       "                             Pdr_User_Proj_Month  \\\n",
       "0      ДИСУ#Фролова Елена Евгеньевна#С0010-Б#янв   \n",
       "1   НСКК#Климова Наталья Геннадьевна#С0013-E#янв   \n",
       "2        НПИС#Тягун Анна Анатольевна#Т0014-И#янв   \n",
       "3   ДКиПС#Алифанова Мария Алексеевна#С0015-И#янв   \n",
       "4  ДКиПС#Карабань Денис Владимирович#С0015-И#янв   \n",
       "\n",
       "                          Pdr_User_Month     Pdr_Proj_Month  \\\n",
       "0      ДИСУ#Фролова Елена Евгеньевна#янв   ДИСУ#С0010-Б#янв   \n",
       "1   НСКК#Климова Наталья Геннадьевна#янв   НСКК#С0013-E#янв   \n",
       "2        НПИС#Тягун Анна Анатольевна#янв   НПИС#Т0014-И#янв   \n",
       "3   ДКиПС#Алифанова Мария Алексеевна#янв  ДКиПС#С0015-И#янв   \n",
       "4  ДКиПС#Карабань Денис Владимирович#янв  ДКиПС#С0015-И#янв   \n",
       "\n",
       "                            ProjMang_Proj_Month  \\\n",
       "0      Пуромов Евгений Владимирович#С0010-Б#янв   \n",
       "1    Колисниченко Елена Анатольевна#С0013-E#янв   \n",
       "2  Заславская Ярослава Владимировна#Т0014-И#янв   \n",
       "3  Заславская Ярослава Владимировна#С0015-И#янв   \n",
       "4  Заславская Ярослава Владимировна#С0015-И#янв   \n",
       "\n",
       "                            ProjMang_Proj_User_Month  \n",
       "0  Пуромов Евгений Владимирович#С0010-Б#Фролова Е...  \n",
       "1  Колисниченко Елена Анатольевна#С0013-E#Климова...  \n",
       "2  Заславская Ярослава Владимировна#Т0014-И#Тягун...  \n",
       "3  Заславская Ярослава Владимировна#С0015-И#Алифа...  \n",
       "4  Заславская Ярослава Владимировна#С0015-И#Караб...  "
      ]
     },
     "execution_count": 69,
     "metadata": {},
     "output_type": "execute_result"
    }
   ],
   "source": [
    "# report_df[\"FDate\"] = report_df[\"FDate\"].dt.tz_localize(tz='Europe/London')\n",
    "# report_df[\"FDate\"] = pd.to_datetime(report_df[\"FDate\"])\n",
    "# report_df[\"FDate\"] = report_df[\"FDate\"].astype(str)\n",
    "report_df[\"FDate\"] = report_df[\"FDate\"].dt.strftime('%Y_%m')\n",
    "report_df.head()"
   ]
  },
  {
   "cell_type": "code",
   "execution_count": 70,
   "metadata": {},
   "outputs": [],
   "source": [
    "oExcel = win32com.client.Dispatch(\"Excel.Application\")"
   ]
  },
  {
   "cell_type": "code",
   "execution_count": 71,
   "metadata": {},
   "outputs": [],
   "source": [
    "wb = oExcel.Workbooks.Open(\"C:/tmp/test/report2.xlsx\")\n",
    "oExcel.visible = False\n",
    "\n",
    "#sheet = wb.ActiveSheet\n"
   ]
  },
  {
   "cell_type": "code",
   "execution_count": 72,
   "metadata": {},
   "outputs": [],
   "source": [
    "oExcel.visible = True"
   ]
  },
  {
   "cell_type": "code",
   "execution_count": 73,
   "metadata": {},
   "outputs": [],
   "source": [
    "wb.Sheets[\"ИсходныеДанные\"].Activate()\n",
    "oSheet = wb.Sheets[\"ИсходныеДанные\"]\n"
   ]
  },
  {
   "cell_type": "code",
   "execution_count": 74,
   "metadata": {},
   "outputs": [
    {
     "data": {
      "text/plain": [
       "'Первыйденьмесяца'"
      ]
     },
     "execution_count": 74,
     "metadata": {},
     "output_type": "execute_result"
    }
   ],
   "source": [
    "wb.Sheets[\"ИсходныеДанные\"].Cells(1,1).Value.replace(\" \", \"\")"
   ]
  },
  {
   "cell_type": "code",
   "execution_count": 75,
   "metadata": {},
   "outputs": [
    {
     "data": {
      "text/plain": [
       "3"
      ]
     },
     "execution_count": 75,
     "metadata": {},
     "output_type": "execute_result"
    }
   ],
   "source": [
    "oExcel.WorkBooks.Count"
   ]
  },
  {
   "cell_type": "code",
   "execution_count": 52,
   "metadata": {},
   "outputs": [
    {
     "data": {
      "text/plain": [
       "['FDate',\n",
       " 'Month',\n",
       " 'FN',\n",
       " 'Division',\n",
       " 'User',\n",
       " 'Project',\n",
       " 'ProjectType',\n",
       " 'ProjectSubType',\n",
       " 'ProjectManager',\n",
       " 'PlanFTE',\n",
       " 'FactFTE',\n",
       " 'Pdr_Proj_User_Month',\n",
       " 'Pdr_User_Proj_Month',\n",
       " 'Pdr_User_Month',\n",
       " 'Pdr_Proj_Month',\n",
       " 'ProjMang_Proj_Month',\n",
       " 'ProjMang_Proj_User_Month']"
      ]
     },
     "execution_count": 52,
     "metadata": {},
     "output_type": "execute_result"
    }
   ],
   "source": [
    "columns_list = report_df.columns.tolist()\n",
    "columns_list"
   ]
  },
  {
   "cell_type": "code",
   "execution_count": 56,
   "metadata": {},
   "outputs": [
    {
     "data": {
      "text/plain": [
       "['FDate',\n",
       " 'Month',\n",
       " 'FN',\n",
       " 'Division',\n",
       " 'User',\n",
       " 'Project',\n",
       " 'ProjectType',\n",
       " 'ProjectSubType',\n",
       " 'ProjectManager',\n",
       " 'Pdr_Proj_User_Month',\n",
       " 'Pdr_User_Proj_Month',\n",
       " 'Pdr_User_Month',\n",
       " 'Pdr_Proj_Month',\n",
       " 'ProjMang_Proj_Month',\n",
       " 'ProjMang_Proj_User_Month']"
      ]
     },
     "execution_count": 56,
     "metadata": {},
     "output_type": "execute_result"
    }
   ],
   "source": [
    "report_df.select_dtypes(include = ['object']).columns.tolist()"
   ]
  },
  {
   "cell_type": "code",
   "execution_count": 50,
   "metadata": {},
   "outputs": [
    {
     "data": {
      "text/plain": [
       "[numpy.dtype,\n",
       " numpy.dtype,\n",
       " numpy.dtype,\n",
       " numpy.dtype,\n",
       " numpy.dtype,\n",
       " numpy.dtype,\n",
       " numpy.dtype,\n",
       " numpy.dtype,\n",
       " numpy.dtype,\n",
       " numpy.dtype,\n",
       " numpy.dtype,\n",
       " numpy.dtype,\n",
       " numpy.dtype,\n",
       " numpy.dtype,\n",
       " numpy.dtype,\n",
       " numpy.dtype,\n",
       " numpy.dtype]"
      ]
     },
     "execution_count": 50,
     "metadata": {},
     "output_type": "execute_result"
    }
   ],
   "source": [
    "[type(columns_types_list[col_name]) for col_name in columns_list]"
   ]
  },
  {
   "cell_type": "code",
   "execution_count": 33,
   "metadata": {},
   "outputs": [
    {
     "data": {
      "text/plain": [
       "Index(['FDate', 'Month', 'FN', 'Division', 'User', 'Project', 'ProjectType',\n",
       "       'ProjectSubType', 'ProjectManager', 'PlanFTE', 'FactFTE',\n",
       "       'Pdr_Proj_User_Month', 'Pdr_User_Proj_Month', 'Pdr_User_Month',\n",
       "       'Pdr_Proj_Month', 'ProjMang_Proj_Month', 'ProjMang_Proj_User_Month'],\n",
       "      dtype='object')"
      ]
     },
     "execution_count": 33,
     "metadata": {},
     "output_type": "execute_result"
    }
   ],
   "source": [
    "report_df.dtypes.keys()"
   ]
  },
  {
   "cell_type": "code",
   "execution_count": 188,
   "metadata": {},
   "outputs": [
    {
     "name": "stdout",
     "output_type": "stream",
     "text": [
      "9\n",
      "10 1000 True\n",
      "Wall time: 57.5 ms\n"
     ]
    }
   ],
   "source": [
    "%%time\n",
    "row_counter = 0\n",
    "first_row_with_del = 0\n",
    "p_found_first_row = False\n",
    "last_row_4_test = 10000\n",
    "range_from_excel = wb.Sheets[\"Отчет\"].Range(wb.Sheets[\"Отчет\"].Cells(1,1), wb.Sheets[\"Отчет\"].Cells(last_row_4_test,1)).Value\n",
    "\n",
    "# Ищем первый признак 'delete'\n",
    "\n",
    "\n",
    "for row_counter in range(len(range_from_excel)):\n",
    "    row_del_flag_value = range_from_excel[row_counter][0]\n",
    "    if row_del_flag_value == None:\n",
    "        p_found_first_row = False\n",
    "        break\n",
    "    \n",
    "    row_del_flag_value = row_del_flag_value.replace(\" \",\"\")\n",
    "    if row_del_flag_value == \"delete\":\n",
    "        p_found_first_row = True\n",
    "        break\n",
    "\n",
    "print(row_counter)\n",
    "        \n",
    "if row_del_flag_value:\n",
    "    first_row_with_del = row_counter + 1\n",
    "    last_row_with_del = row_counter\n",
    "    while row_counter < len(range_from_excel):\n",
    "        row_del_flag_value = range_from_excel[last_row_with_del][0]\n",
    "        if row_del_flag_value == None or row_del_flag_value.replace(\" \",\"\") != \"delete\":\n",
    "            break\n",
    "        last_row_with_del += 1\n",
    "\n",
    "print(first_row_with_del, last_row_with_del, p_found_first_row)\n",
    "\n"
   ]
  },
  {
   "cell_type": "code",
   "execution_count": 191,
   "metadata": {},
   "outputs": [
    {
     "data": {
      "text/plain": [
       "True"
      ]
     },
     "execution_count": 191,
     "metadata": {},
     "output_type": "execute_result"
    }
   ],
   "source": [
    "wb.Sheets[\"Отчет\"].Range(wb.Sheets[\"Отчет\"].Cells( \\\n",
    "            first_row_with_del, 1), wb.Sheets[\"Отчет\"].Cells(last_row_with_del, 1)).Rows.EntireRow.Delete()"
   ]
  },
  {
   "cell_type": "code",
   "execution_count": 190,
   "metadata": {},
   "outputs": [
    {
     "ename": "com_error",
     "evalue": "(-2147352567, 'Ошибка.', (0, None, None, None, 0, -2146827284), None)",
     "output_type": "error",
     "traceback": [
      "\u001b[1;31m---------------------------------------------------------------------------\u001b[0m",
      "\u001b[1;31mcom_error\u001b[0m                                 Traceback (most recent call last)",
      "\u001b[1;32m<ipython-input-190-e7855352ea8e>\u001b[0m in \u001b[0;36m<module>\u001b[1;34m\u001b[0m\n\u001b[1;32m----> 1\u001b[1;33m \u001b[0mwb\u001b[0m\u001b[1;33m.\u001b[0m\u001b[0mSheets\u001b[0m\u001b[1;33m[\u001b[0m\u001b[1;34m\"Отчет\"\u001b[0m\u001b[1;33m]\u001b[0m\u001b[1;33m.\u001b[0m\u001b[0mRows\u001b[0m\u001b[1;33m(\u001b[0m\u001b[0mfirst_row_with_del\u001b[0m\u001b[1;33m,\u001b[0m \u001b[0mlast_row_with_del\u001b[0m\u001b[1;33m)\u001b[0m\u001b[1;33m.\u001b[0m\u001b[0mDelete\u001b[0m\u001b[1;33m(\u001b[0m\u001b[1;33m)\u001b[0m\u001b[1;33m\u001b[0m\u001b[1;33m\u001b[0m\u001b[0m\n\u001b[0m",
      "\u001b[1;32mc:\\projects\\jnb\\.env_jnb\\lib\\site-packages\\win32com\\client\\dynamic.py\u001b[0m in \u001b[0;36m__call__\u001b[1;34m(self, *args)\u001b[0m\n\u001b[0;32m    224\u001b[0m             \u001b[0mallArgs\u001b[0m \u001b[1;33m=\u001b[0m \u001b[1;33m(\u001b[0m\u001b[0mdispid\u001b[0m\u001b[1;33m,\u001b[0m \u001b[0mLCID\u001b[0m\u001b[1;33m,\u001b[0m \u001b[0minvkind\u001b[0m\u001b[1;33m,\u001b[0m \u001b[1;36m1\u001b[0m\u001b[1;33m)\u001b[0m \u001b[1;33m+\u001b[0m \u001b[0margs\u001b[0m\u001b[1;33m\u001b[0m\u001b[1;33m\u001b[0m\u001b[0m\n\u001b[0;32m    225\u001b[0m             return self._get_good_object_(\n\u001b[1;32m--> 226\u001b[1;33m                 \u001b[0mself\u001b[0m\u001b[1;33m.\u001b[0m\u001b[0m_oleobj_\u001b[0m\u001b[1;33m.\u001b[0m\u001b[0mInvoke\u001b[0m\u001b[1;33m(\u001b[0m\u001b[1;33m*\u001b[0m\u001b[0mallArgs\u001b[0m\u001b[1;33m)\u001b[0m\u001b[1;33m,\u001b[0m \u001b[0mself\u001b[0m\u001b[1;33m.\u001b[0m\u001b[0m_olerepr_\u001b[0m\u001b[1;33m.\u001b[0m\u001b[0mdefaultDispatchName\u001b[0m\u001b[1;33m,\u001b[0m \u001b[1;32mNone\u001b[0m\u001b[1;33m\u001b[0m\u001b[1;33m\u001b[0m\u001b[0m\n\u001b[0m\u001b[0;32m    227\u001b[0m             )\n\u001b[0;32m    228\u001b[0m         \u001b[1;32mraise\u001b[0m \u001b[0mTypeError\u001b[0m\u001b[1;33m(\u001b[0m\u001b[1;34m\"This dispatch object does not define a default method\"\u001b[0m\u001b[1;33m)\u001b[0m\u001b[1;33m\u001b[0m\u001b[1;33m\u001b[0m\u001b[0m\n",
      "\u001b[1;31mcom_error\u001b[0m: (-2147352567, 'Ошибка.', (0, None, None, None, 0, -2146827284), None)"
     ]
    }
   ],
   "source": [
    "wb.Sheets[\"Отчет\"].Rows(first_row_with_del, last_row_with_del).Delete()"
   ]
  },
  {
   "cell_type": "code",
   "execution_count": null,
   "metadata": {},
   "outputs": [],
   "source": []
  },
  {
   "cell_type": "code",
   "execution_count": null,
   "metadata": {},
   "outputs": [],
   "source": []
  },
  {
   "cell_type": "code",
   "execution_count": null,
   "metadata": {},
   "outputs": [],
   "source": []
  },
  {
   "cell_type": "code",
   "execution_count": null,
   "metadata": {},
   "outputs": [],
   "source": []
  }
 ],
 "metadata": {
  "kernelspec": {
   "display_name": "Python 3",
   "language": "python",
   "name": "python3"
  },
  "language_info": {
   "codemirror_mode": {
    "name": "ipython",
    "version": 3
   },
   "file_extension": ".py",
   "mimetype": "text/x-python",
   "name": "python",
   "nbconvert_exporter": "python",
   "pygments_lexer": "ipython3",
   "version": "3.6.8"
  }
 },
 "nbformat": 4,
 "nbformat_minor": 2
}
